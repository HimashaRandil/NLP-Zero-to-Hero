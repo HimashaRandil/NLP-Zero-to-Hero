{
  "nbformat": 4,
  "nbformat_minor": 0,
  "metadata": {
    "colab": {
      "provenance": []
    },
    "kernelspec": {
      "name": "python3",
      "display_name": "Python 3"
    },
    "language_info": {
      "name": "python"
    }
  },
  "cells": [
    {
      "cell_type": "code",
      "source": [
        "import nltk\n",
        "\n",
        "from gensim.models import Word2Vec\n",
        "from nltk.corpus import stopwords\n",
        "\n",
        "import re"
      ],
      "metadata": {
        "id": "_QhAX9XlvI9k"
      },
      "execution_count": 1,
      "outputs": []
    },
    {
      "cell_type": "code",
      "source": [
        "# Download Punkt tokenizer (if not already downloaded)\n",
        "try:\n",
        "  nltk.data.find('tokenizers/punkt/PY3/english.pickle')\n",
        "except LookupError:\n",
        "  nltk.download('punkt')"
      ],
      "metadata": {
        "colab": {
          "base_uri": "https://localhost:8080/"
        },
        "id": "ueCCI2ZgvWR-",
        "outputId": "3be6f0a0-64a1-40b6-9854-dbe9460744f4"
      },
      "execution_count": 2,
      "outputs": [
        {
          "output_type": "stream",
          "name": "stderr",
          "text": [
            "[nltk_data] Downloading package punkt to /root/nltk_data...\n",
            "[nltk_data]   Unzipping tokenizers/punkt.zip.\n"
          ]
        }
      ]
    },
    {
      "cell_type": "code",
      "source": [
        "nltk.download('wordnet')\n",
        "nltk.download('stopwords')"
      ],
      "metadata": {
        "colab": {
          "base_uri": "https://localhost:8080/"
        },
        "id": "9jUvaaPDvZC4",
        "outputId": "fc7e4d66-2ddc-441d-ffa9-9a5e45222522"
      },
      "execution_count": 3,
      "outputs": [
        {
          "output_type": "stream",
          "name": "stderr",
          "text": [
            "[nltk_data] Downloading package wordnet to /root/nltk_data...\n",
            "[nltk_data] Downloading package stopwords to /root/nltk_data...\n",
            "[nltk_data]   Unzipping corpora/stopwords.zip.\n"
          ]
        },
        {
          "output_type": "execute_result",
          "data": {
            "text/plain": [
              "True"
            ]
          },
          "metadata": {},
          "execution_count": 3
        }
      ]
    },
    {
      "cell_type": "code",
      "source": [
        "paragraph = \"\"\"I have three visions for India. In 3000 years of our history, people from all over\n",
        "               the world have come and invaded us, captured our lands, conquered our minds.\n",
        "               From Alexander onwards, the Greeks, the Turks, the Moguls, the Portuguese, the British,\n",
        "               the French, the Dutch, all of them came and looted us, took over what was ours.\n",
        "               Yet we have not done this to any other nation. We have not conquered anyone.\n",
        "               We have not grabbed their land, their culture,\n",
        "               their history and tried to enforce our way of life on them.\n",
        "               Why? Because we respect the freedom of others.That is why my\n",
        "               first vision is that of freedom. I believe that India got its first vision of\n",
        "               this in 1857, when we started the War of Independence. It is this freedom that\n",
        "               we must protect and nurture and build on. If we are not free, no one will respect us.\n",
        "               My second vision for India’s development. For fifty years we have been a developing nation.\n",
        "               It is time we see ourselves as a developed nation. We are among the top 5 nations of the world\n",
        "               in terms of GDP. We have a 10 percent growth rate in most areas. Our poverty levels are falling.\n",
        "               Our achievements are being globally recognised today. Yet we lack the self-confidence to\n",
        "               see ourselves as a developed nation, self-reliant and self-assured. Isn’t this incorrect?\n",
        "               I have a third vision. India must stand up to the world. Because I believe that unless India\n",
        "               stands up to the world, no one will respect us. Only strength respects strength. We must be\n",
        "               strong not only as a military power but also as an economic power. Both must go hand-in-hand.\n",
        "               My good fortune was to have worked with three great minds. Dr. Vikram Sarabhai of the Dept. of\n",
        "               space, Professor Satish Dhawan, who succeeded him and Dr. Brahm Prakash, father of nuclear material.\n",
        "               I was lucky to have worked with all three of them closely and consider this the great opportunity of my life.\n",
        "               I see four milestones in my career\"\"\"\n"
      ],
      "metadata": {
        "id": "y-WKHh4gvb5p"
      },
      "execution_count": 4,
      "outputs": []
    },
    {
      "cell_type": "code",
      "source": [
        "# Preprocessing the data\n",
        "text = re.sub(r'\\[[0-9]*\\]',' ',paragraph)\n",
        "text = re.sub(r'\\s+',' ',text)\n",
        "text = text.lower()\n",
        "text = re.sub(r'\\d',' ',text)\n",
        "text = re.sub(r'\\s+',' ',text)"
      ],
      "metadata": {
        "id": "24sgnCgbvlWh"
      },
      "execution_count": 5,
      "outputs": []
    },
    {
      "cell_type": "code",
      "source": [
        "# Preparing the dataset\n",
        "sentences = nltk.sent_tokenize(text)\n",
        "sentences = [nltk.word_tokenize(sentence) for sentence in sentences]"
      ],
      "metadata": {
        "id": "gQcT_WQdvm8G"
      },
      "execution_count": 6,
      "outputs": []
    },
    {
      "cell_type": "code",
      "source": [
        "for i in range(len(sentences)):\n",
        "    sentences[i] = [word for word in sentences[i] if word not in stopwords.words('english')]"
      ],
      "metadata": {
        "id": "BF93j0r_vpXp"
      },
      "execution_count": 7,
      "outputs": []
    },
    {
      "cell_type": "code",
      "source": [
        "# Training the Word2Vec model\n",
        "model = Word2Vec(sentences, min_count=1)\n",
        "\n",
        "\n",
        "word_index = model.wv.key_to_index['good']"
      ],
      "metadata": {
        "id": "vjV3piGFvvw5"
      },
      "execution_count": 9,
      "outputs": []
    },
    {
      "cell_type": "code",
      "source": [
        "word_index"
      ],
      "metadata": {
        "colab": {
          "base_uri": "https://localhost:8080/"
        },
        "id": "U0BZk2SOwJu1",
        "outputId": "f40345e8-dfef-4c7c-9017-009f0044e96f"
      },
      "execution_count": 10,
      "outputs": [
        {
          "output_type": "execute_result",
          "data": {
            "text/plain": [
              "73"
            ]
          },
          "metadata": {},
          "execution_count": 10
        }
      ]
    },
    {
      "cell_type": "code",
      "source": [
        "def get_word_info(word):\n",
        "  \"\"\"\n",
        "  Attempts to retrieve word index and vector from the model, handling potential errors.\n",
        "\n",
        "  Args:\n",
        "      word: The word to get information for.\n",
        "\n",
        "  Returns:\n",
        "      A tuple containing (word_index, word_vector) or (None, None) if errors occur.\n",
        "  \"\"\"\n",
        "  try:\n",
        "    word_index = model.wv.key_to_index.get(word)\n",
        "    if word_index is not None:\n",
        "      try:\n",
        "        word_vector = model.wv.get_vecattr(word, 'vector')\n",
        "        return word_index, word_vector\n",
        "      except KeyError:  # Handle potential KeyError for missing vector attribute\n",
        "        print(f\"Word '{word}' has index {word_index} but vector attribute might not be available\")\n",
        "        return word_index, None\n",
        "    else:\n",
        "      print(f\"Word '{word}' not found in vocabulary\")\n",
        "      return None, None\n",
        "  except (AttributeError, KeyError) as e:  # Handle general errors related to model compatibility\n",
        "    print(f\"An error occurred while processing '{word}': {e}\")\n",
        "    return None, None\n",
        "\n",
        "# Example usage\n",
        "word = \"military\"\n",
        "word_index, word_vector = get_word_info(word)\n",
        "if word_vector is not None:\n",
        "  print(f\"Word vector for '{word}': {word_vector[:10]} (truncated)\")\n",
        "\n",
        "word = \"war\"\n",
        "word_index, word_vector = get_word_info(word)\n",
        "if word_vector is not None:\n",
        "  print(f\"Word vector for '{word}': {word_vector[:10]} (truncated)\")"
      ],
      "metadata": {
        "colab": {
          "base_uri": "https://localhost:8080/"
        },
        "id": "05sHaWhkxvgB",
        "outputId": "80f7c256-06c1-4aa6-8a6b-468492bf9eba"
      },
      "execution_count": 15,
      "outputs": [
        {
          "output_type": "stream",
          "name": "stdout",
          "text": [
            "Word 'military' has index 68 but vector attribute might not be available\n",
            "Word 'war' has index 31 but vector attribute might not be available\n"
          ]
        }
      ]
    },
    {
      "cell_type": "code",
      "source": [
        "def find_similar_words(word, top_n=10):\n",
        "  \"\"\"\n",
        "  Finds the most similar words to a given word using word2vec model.\n",
        "\n",
        "  Args:\n",
        "      word: The word to find similar words for.\n",
        "      top_n: The number of most similar words to return (default: 10).\n",
        "\n",
        "  Returns:\n",
        "      A list of tuples containing (similar_word, similarity score).\n",
        "  \"\"\"\n",
        "  try:\n",
        "    similar_words = model.wv.most_similar(word, topn=top_n)\n",
        "    return similar_words\n",
        "  except KeyError:\n",
        "    print(f\"Word '{word}' not found in vocabulary\")\n",
        "    return []"
      ],
      "metadata": {
        "id": "1l2Bb0eFyIGU"
      },
      "execution_count": 16,
      "outputs": []
    },
    {
      "cell_type": "code",
      "source": [
        "word = \"strength\"\n",
        "similar_words = find_similar_words(word)\n",
        "\n",
        "if similar_words:\n",
        "  for similar_word, similarity in similar_words:\n",
        "    print(f\"'{similar_word}': {similarity:.2f}\")  # Print word and similarity score with 2 decimal places\n",
        "else:\n",
        "  print(\"No similar words found.\")"
      ],
      "metadata": {
        "colab": {
          "base_uri": "https://localhost:8080/"
        },
        "id": "GFnKumjnyLZW",
        "outputId": "73f07be1-0cc6-4c38-b1de-55c75bdcba78"
      },
      "execution_count": 20,
      "outputs": [
        {
          "output_type": "stream",
          "name": "stdout",
          "text": [
            "'land': 0.23\n",
            "'lucky': 0.22\n",
            "'.': 0.22\n",
            "'space': 0.20\n",
            "'succeeded': 0.19\n",
            "'looted': 0.18\n",
            "'came': 0.18\n",
            "'us': 0.18\n",
            "'material': 0.17\n",
            "'among': 0.17\n"
          ]
        }
      ]
    }
  ]
}